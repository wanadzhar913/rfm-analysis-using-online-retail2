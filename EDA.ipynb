{
 "cells": [
  {
   "cell_type": "code",
   "execution_count": 3,
   "metadata": {},
   "outputs": [
    {
     "name": "stdout",
     "output_type": "stream",
     "text": [
      "Collecting openpyxl\n",
      "  Downloading openpyxl-3.1.2-py2.py3-none-any.whl (249 kB)\n",
      "     ---------------------------------------- 0.0/250.0 kB ? eta -:--:--\n",
      "     - -------------------------------------- 10.2/250.0 kB ? eta -:--:--\n",
      "     ------ ------------------------------ 41.0/250.0 kB 326.8 kB/s eta 0:00:01\n",
      "     ------------- ----------------------- 92.2/250.0 kB 581.0 kB/s eta 0:00:01\n",
      "     ----------------- ------------------ 122.9/250.0 kB 654.9 kB/s eta 0:00:01\n",
      "     ---------------------------- ------- 194.6/250.0 kB 737.3 kB/s eta 0:00:01\n",
      "     ------------------------------------ 250.0/250.0 kB 807.2 kB/s eta 0:00:00\n",
      "Collecting et-xmlfile (from openpyxl)\n",
      "  Downloading et_xmlfile-1.1.0-py3-none-any.whl (4.7 kB)\n",
      "Installing collected packages: et-xmlfile, openpyxl\n",
      "Successfully installed et-xmlfile-1.1.0 openpyxl-3.1.2\n"
     ]
    }
   ],
   "source": [
    "# !pip install openpyxl"
   ]
  },
  {
   "cell_type": "code",
   "execution_count": 1,
   "metadata": {},
   "outputs": [],
   "source": [
    "import pandas as pd\n",
    "import numpy as np\n",
    "\n",
    "import seaborn as sns\n",
    "import matplotlib.pyplot as plt\n",
    "%matplotlib inline"
   ]
  },
  {
   "cell_type": "markdown",
   "metadata": {},
   "source": [
    "The [Online Retail II](https://archive.ics.uci.edu/dataset/502/online+retail+ii) data set contains all the transactions occurring for a UK-based, registered, non-store online retail company between 01/12/2009 and 09/12/2011. They mainly sell unique all-occasion gift-ware. Many customers of the company are wholesalers.\n",
    "\n",
    "**Additional variable information (from their website)**\n",
    "- `InvoiceNo`: Invoice number. Nominal. A 6-digit integral number uniquely assigned to each transaction. If this code starts with the letter 'c', it indicates a cancellation. \n",
    "- `StockCode`: Product (item) code. Nominal. A 5-digit integral number uniquely assigned to each distinct product. \n",
    "- `Description`: Product (item) name. Nominal. \n",
    "- `Quantity`: The quantities of each product (item) per transaction. Numeric.\t\n",
    "- `InvoiceDate`: Invoice date and time. Numeric. The day and time when a transaction was generated. \n",
    "- `UnitPrice`: Unit price. Numeric. Product price per unit in sterling (Â£). \n",
    "- `CustomerID`: Customer number. Nominal. A 5-digit integral number uniquely assigned to each customer. \n",
    "- `Country`: Country name. Nominal. The name of the country where a customer resides."
   ]
  },
  {
   "cell_type": "code",
   "execution_count": 2,
   "metadata": {},
   "outputs": [
    {
     "name": "stdout",
     "output_type": "stream",
     "text": [
      "Dataframe shape: (525461, 8)\n",
      "Dataframe shape: (541910, 8)\n"
     ]
    }
   ],
   "source": [
    "df_transactions_a = pd.read_excel('online_retail_II.xlsx', sheet_name=\"Year 2009-2010\")\n",
    "df_transactions_b = pd.read_excel('online_retail_II.xlsx', sheet_name=\"Year 2010-2011\")\n",
    "print(f\"Dataframe shape: {df_transactions_a.shape}\")\n",
    "print(f\"Dataframe shape: {df_transactions_b.shape}\")"
   ]
  },
  {
   "cell_type": "markdown",
   "metadata": {},
   "source": [
    "#### 0.0 **Preliminary EDA**"
   ]
  },
  {
   "cell_type": "markdown",
   "metadata": {},
   "source": [
    "We notice that, for both datasets, there's a handful of missing values in the `Description` & `Customer ID` columns."
   ]
  },
  {
   "cell_type": "code",
   "execution_count": 8,
   "metadata": {},
   "outputs": [
    {
     "name": "stdout",
     "output_type": "stream",
     "text": [
      "<class 'pandas.core.frame.DataFrame'>\n",
      "RangeIndex: 525461 entries, 0 to 525460\n",
      "Data columns (total 8 columns):\n",
      " #   Column       Non-Null Count   Dtype         \n",
      "---  ------       --------------   -----         \n",
      " 0   Invoice      525461 non-null  object        \n",
      " 1   StockCode    525461 non-null  object        \n",
      " 2   Description  522533 non-null  object        \n",
      " 3   Quantity     525461 non-null  int64         \n",
      " 4   InvoiceDate  525461 non-null  datetime64[ns]\n",
      " 5   Price        525461 non-null  float64       \n",
      " 6   Customer ID  417534 non-null  float64       \n",
      " 7   Country      525461 non-null  object        \n",
      "dtypes: datetime64[ns](1), float64(2), int64(1), object(4)\n",
      "memory usage: 32.1+ MB\n",
      "None\n",
      "\n"
     ]
    },
    {
     "data": {
      "text/html": [
       "<div>\n",
       "<style scoped>\n",
       "    .dataframe tbody tr th:only-of-type {\n",
       "        vertical-align: middle;\n",
       "    }\n",
       "\n",
       "    .dataframe tbody tr th {\n",
       "        vertical-align: top;\n",
       "    }\n",
       "\n",
       "    .dataframe thead th {\n",
       "        text-align: right;\n",
       "    }\n",
       "</style>\n",
       "<table border=\"1\" class=\"dataframe\">\n",
       "  <thead>\n",
       "    <tr style=\"text-align: right;\">\n",
       "      <th></th>\n",
       "      <th>Invoice</th>\n",
       "      <th>StockCode</th>\n",
       "      <th>Description</th>\n",
       "      <th>Quantity</th>\n",
       "      <th>InvoiceDate</th>\n",
       "      <th>Price</th>\n",
       "      <th>Customer ID</th>\n",
       "      <th>Country</th>\n",
       "    </tr>\n",
       "  </thead>\n",
       "  <tbody>\n",
       "    <tr>\n",
       "      <th>0</th>\n",
       "      <td>489434</td>\n",
       "      <td>85048</td>\n",
       "      <td>15CM CHRISTMAS GLASS BALL 20 LIGHTS</td>\n",
       "      <td>12</td>\n",
       "      <td>2009-12-01 07:45:00</td>\n",
       "      <td>6.95</td>\n",
       "      <td>13085.0</td>\n",
       "      <td>United Kingdom</td>\n",
       "    </tr>\n",
       "    <tr>\n",
       "      <th>1</th>\n",
       "      <td>489434</td>\n",
       "      <td>79323P</td>\n",
       "      <td>PINK CHERRY LIGHTS</td>\n",
       "      <td>12</td>\n",
       "      <td>2009-12-01 07:45:00</td>\n",
       "      <td>6.75</td>\n",
       "      <td>13085.0</td>\n",
       "      <td>United Kingdom</td>\n",
       "    </tr>\n",
       "    <tr>\n",
       "      <th>2</th>\n",
       "      <td>489434</td>\n",
       "      <td>79323W</td>\n",
       "      <td>WHITE CHERRY LIGHTS</td>\n",
       "      <td>12</td>\n",
       "      <td>2009-12-01 07:45:00</td>\n",
       "      <td>6.75</td>\n",
       "      <td>13085.0</td>\n",
       "      <td>United Kingdom</td>\n",
       "    </tr>\n",
       "  </tbody>\n",
       "</table>\n",
       "</div>"
      ],
      "text/plain": [
       "  Invoice StockCode                          Description  Quantity  \\\n",
       "0  489434     85048  15CM CHRISTMAS GLASS BALL 20 LIGHTS        12   \n",
       "1  489434    79323P                   PINK CHERRY LIGHTS        12   \n",
       "2  489434    79323W                  WHITE CHERRY LIGHTS        12   \n",
       "\n",
       "          InvoiceDate  Price  Customer ID         Country  \n",
       "0 2009-12-01 07:45:00   6.95      13085.0  United Kingdom  \n",
       "1 2009-12-01 07:45:00   6.75      13085.0  United Kingdom  \n",
       "2 2009-12-01 07:45:00   6.75      13085.0  United Kingdom  "
      ]
     },
     "execution_count": 8,
     "metadata": {},
     "output_type": "execute_result"
    }
   ],
   "source": [
    "print(df_transactions_a.info())\n",
    "print(\"\")\n",
    "df_transactions_a.head(3)"
   ]
  },
  {
   "cell_type": "code",
   "execution_count": 9,
   "metadata": {},
   "outputs": [
    {
     "name": "stdout",
     "output_type": "stream",
     "text": [
      "<class 'pandas.core.frame.DataFrame'>\n",
      "RangeIndex: 541910 entries, 0 to 541909\n",
      "Data columns (total 8 columns):\n",
      " #   Column       Non-Null Count   Dtype         \n",
      "---  ------       --------------   -----         \n",
      " 0   Invoice      541910 non-null  object        \n",
      " 1   StockCode    541910 non-null  object        \n",
      " 2   Description  540456 non-null  object        \n",
      " 3   Quantity     541910 non-null  int64         \n",
      " 4   InvoiceDate  541910 non-null  datetime64[ns]\n",
      " 5   Price        541910 non-null  float64       \n",
      " 6   Customer ID  406830 non-null  float64       \n",
      " 7   Country      541910 non-null  object        \n",
      "dtypes: datetime64[ns](1), float64(2), int64(1), object(4)\n",
      "memory usage: 33.1+ MB\n",
      "None\n",
      "\n"
     ]
    },
    {
     "data": {
      "text/html": [
       "<div>\n",
       "<style scoped>\n",
       "    .dataframe tbody tr th:only-of-type {\n",
       "        vertical-align: middle;\n",
       "    }\n",
       "\n",
       "    .dataframe tbody tr th {\n",
       "        vertical-align: top;\n",
       "    }\n",
       "\n",
       "    .dataframe thead th {\n",
       "        text-align: right;\n",
       "    }\n",
       "</style>\n",
       "<table border=\"1\" class=\"dataframe\">\n",
       "  <thead>\n",
       "    <tr style=\"text-align: right;\">\n",
       "      <th></th>\n",
       "      <th>Invoice</th>\n",
       "      <th>StockCode</th>\n",
       "      <th>Description</th>\n",
       "      <th>Quantity</th>\n",
       "      <th>InvoiceDate</th>\n",
       "      <th>Price</th>\n",
       "      <th>Customer ID</th>\n",
       "      <th>Country</th>\n",
       "    </tr>\n",
       "  </thead>\n",
       "  <tbody>\n",
       "    <tr>\n",
       "      <th>0</th>\n",
       "      <td>536365</td>\n",
       "      <td>85123A</td>\n",
       "      <td>WHITE HANGING HEART T-LIGHT HOLDER</td>\n",
       "      <td>6</td>\n",
       "      <td>2010-12-01 08:26:00</td>\n",
       "      <td>2.55</td>\n",
       "      <td>17850.0</td>\n",
       "      <td>United Kingdom</td>\n",
       "    </tr>\n",
       "    <tr>\n",
       "      <th>1</th>\n",
       "      <td>536365</td>\n",
       "      <td>71053</td>\n",
       "      <td>WHITE METAL LANTERN</td>\n",
       "      <td>6</td>\n",
       "      <td>2010-12-01 08:26:00</td>\n",
       "      <td>3.39</td>\n",
       "      <td>17850.0</td>\n",
       "      <td>United Kingdom</td>\n",
       "    </tr>\n",
       "    <tr>\n",
       "      <th>2</th>\n",
       "      <td>536365</td>\n",
       "      <td>84406B</td>\n",
       "      <td>CREAM CUPID HEARTS COAT HANGER</td>\n",
       "      <td>8</td>\n",
       "      <td>2010-12-01 08:26:00</td>\n",
       "      <td>2.75</td>\n",
       "      <td>17850.0</td>\n",
       "      <td>United Kingdom</td>\n",
       "    </tr>\n",
       "  </tbody>\n",
       "</table>\n",
       "</div>"
      ],
      "text/plain": [
       "  Invoice StockCode                         Description  Quantity  \\\n",
       "0  536365    85123A  WHITE HANGING HEART T-LIGHT HOLDER         6   \n",
       "1  536365     71053                 WHITE METAL LANTERN         6   \n",
       "2  536365    84406B      CREAM CUPID HEARTS COAT HANGER         8   \n",
       "\n",
       "          InvoiceDate  Price  Customer ID         Country  \n",
       "0 2010-12-01 08:26:00   2.55      17850.0  United Kingdom  \n",
       "1 2010-12-01 08:26:00   3.39      17850.0  United Kingdom  \n",
       "2 2010-12-01 08:26:00   2.75      17850.0  United Kingdom  "
      ]
     },
     "execution_count": 9,
     "metadata": {},
     "output_type": "execute_result"
    }
   ],
   "source": [
    "print(df_transactions_b.info())\n",
    "print(\"\")\n",
    "df_transactions_b.head(3)"
   ]
  },
  {
   "cell_type": "markdown",
   "metadata": {},
   "source": [
    "While comparisons of purchase habits between the 2 time periods is interesting, we will primarily focus on RFM & Customer Segmentation. Hence, we'll proceed to concatenate the 2 data sets together."
   ]
  },
  {
   "cell_type": "code",
   "execution_count": 3,
   "metadata": {},
   "outputs": [
    {
     "name": "stdout",
     "output_type": "stream",
     "text": [
      "Dataframe shape: (1067371, 8)\n"
     ]
    }
   ],
   "source": [
    "df_transactions = pd.concat([df_transactions_a, df_transactions_b], axis=0)\n",
    "print(f\"Dataframe shape: {df_transactions.shape}\")"
   ]
  },
  {
   "cell_type": "markdown",
   "metadata": {},
   "source": [
    "Let's also ensure that each column has the correct data type. We'll treat `Description` & `Customer ID` after we deal with the missing values in the columns."
   ]
  },
  {
   "cell_type": "code",
   "execution_count": 4,
   "metadata": {},
   "outputs": [],
   "source": [
    "df_transactions[[\"Invoice\", \"StockCode\", \"Country\"]] = \\\n",
    "  df_transactions[[\"Invoice\", \"StockCode\", \"Country\"]].astype('string')"
   ]
  },
  {
   "cell_type": "code",
   "execution_count": 42,
   "metadata": {},
   "outputs": [
    {
     "name": "stdout",
     "output_type": "stream",
     "text": [
      "<class 'pandas.core.frame.DataFrame'>\n",
      "Index: 1067371 entries, 0 to 541909\n",
      "Data columns (total 8 columns):\n",
      " #   Column       Non-Null Count    Dtype         \n",
      "---  ------       --------------    -----         \n",
      " 0   Invoice      1067371 non-null  string        \n",
      " 1   StockCode    1067371 non-null  string        \n",
      " 2   Description  1062989 non-null  object        \n",
      " 3   Quantity     1067371 non-null  int64         \n",
      " 4   InvoiceDate  1067371 non-null  datetime64[ns]\n",
      " 5   Price        1067371 non-null  float64       \n",
      " 6   Customer ID  824364 non-null   float64       \n",
      " 7   Country      1067371 non-null  string        \n",
      "dtypes: datetime64[ns](1), float64(2), int64(1), object(1), string(3)\n",
      "memory usage: 73.3+ MB\n"
     ]
    }
   ],
   "source": [
    "df_transactions.info()"
   ]
  },
  {
   "cell_type": "code",
   "execution_count": 35,
   "metadata": {},
   "outputs": [
    {
     "name": "stdout",
     "output_type": "stream",
     "text": [
      "Transactions registered from 2009-12-01 07:45:00 to 2011-12-09 12:50:00\n"
     ]
    }
   ],
   "source": [
    "print(f\"Transactions registered from {df_transactions['InvoiceDate'].min()} to {df_transactions['InvoiceDate'].max()}\")"
   ]
  },
  {
   "cell_type": "code",
   "execution_count": 36,
   "metadata": {},
   "outputs": [
    {
     "name": "stdout",
     "output_type": "stream",
     "text": [
      "Number of transactions registered: 53628\n"
     ]
    }
   ],
   "source": [
    "print(f\"Number of transactions registered: {df_transactions['Invoice'].nunique()}\")"
   ]
  },
  {
   "cell_type": "code",
   "execution_count": 37,
   "metadata": {},
   "outputs": [
    {
     "name": "stdout",
     "output_type": "stream",
     "text": [
      "Number of item descriptions: 5699\n"
     ]
    }
   ],
   "source": [
    "print(f\"Number of item descriptions: {df_transactions['Description'].nunique()}\")"
   ]
  },
  {
   "cell_type": "code",
   "execution_count": 38,
   "metadata": {},
   "outputs": [
    {
     "name": "stdout",
     "output_type": "stream",
     "text": [
      "Number of item stock code: 5305\n"
     ]
    }
   ],
   "source": [
    "print(f\"Number of item stock code: {df_transactions['StockCode'].nunique()}\")"
   ]
  },
  {
   "cell_type": "code",
   "execution_count": 39,
   "metadata": {},
   "outputs": [
    {
     "name": "stdout",
     "output_type": "stream",
     "text": [
      "Number of unique customers: 5942\n"
     ]
    }
   ],
   "source": [
    "print(f\"Number of unique customers: {df_transactions['Customer ID'].nunique()}\")"
   ]
  },
  {
   "cell_type": "markdown",
   "metadata": {},
   "source": [
    "When we look at the distributions of the `Quantity` & `Price` column, we see negative values which doesn't make sense. We'll address this in the next section."
   ]
  },
  {
   "cell_type": "code",
   "execution_count": 51,
   "metadata": {},
   "outputs": [
    {
     "data": {
      "text/html": [
       "<div>\n",
       "<style scoped>\n",
       "    .dataframe tbody tr th:only-of-type {\n",
       "        vertical-align: middle;\n",
       "    }\n",
       "\n",
       "    .dataframe tbody tr th {\n",
       "        vertical-align: top;\n",
       "    }\n",
       "\n",
       "    .dataframe thead th {\n",
       "        text-align: right;\n",
       "    }\n",
       "</style>\n",
       "<table border=\"1\" class=\"dataframe\">\n",
       "  <thead>\n",
       "    <tr style=\"text-align: right;\">\n",
       "      <th></th>\n",
       "      <th>Quantity</th>\n",
       "      <th>Price</th>\n",
       "    </tr>\n",
       "  </thead>\n",
       "  <tbody>\n",
       "    <tr>\n",
       "      <th>count</th>\n",
       "      <td>1067371.00</td>\n",
       "      <td>1067371.00</td>\n",
       "    </tr>\n",
       "    <tr>\n",
       "      <th>mean</th>\n",
       "      <td>9.94</td>\n",
       "      <td>4.65</td>\n",
       "    </tr>\n",
       "    <tr>\n",
       "      <th>std</th>\n",
       "      <td>172.71</td>\n",
       "      <td>123.55</td>\n",
       "    </tr>\n",
       "    <tr>\n",
       "      <th>min</th>\n",
       "      <td>-80995.00</td>\n",
       "      <td>-53594.36</td>\n",
       "    </tr>\n",
       "    <tr>\n",
       "      <th>25%</th>\n",
       "      <td>1.00</td>\n",
       "      <td>1.25</td>\n",
       "    </tr>\n",
       "    <tr>\n",
       "      <th>50%</th>\n",
       "      <td>3.00</td>\n",
       "      <td>2.10</td>\n",
       "    </tr>\n",
       "    <tr>\n",
       "      <th>75%</th>\n",
       "      <td>10.00</td>\n",
       "      <td>4.15</td>\n",
       "    </tr>\n",
       "    <tr>\n",
       "      <th>max</th>\n",
       "      <td>80995.00</td>\n",
       "      <td>38970.00</td>\n",
       "    </tr>\n",
       "  </tbody>\n",
       "</table>\n",
       "</div>"
      ],
      "text/plain": [
       "        Quantity      Price\n",
       "count 1067371.00 1067371.00\n",
       "mean        9.94       4.65\n",
       "std       172.71     123.55\n",
       "min    -80995.00  -53594.36\n",
       "25%         1.00       1.25\n",
       "50%         3.00       2.10\n",
       "75%        10.00       4.15\n",
       "max     80995.00   38970.00"
      ]
     },
     "execution_count": 51,
     "metadata": {},
     "output_type": "execute_result"
    }
   ],
   "source": [
    "# to avoid scientific notation\n",
    "pd.set_option('display.float_format', '{:.2f}'.format)\n",
    "\n",
    "df_transactions[[\"Quantity\", \"Price\"]].describe()"
   ]
  },
  {
   "cell_type": "markdown",
   "metadata": {},
   "source": [
    "#### 1.0 **Data Cleaning**"
   ]
  },
  {
   "cell_type": "markdown",
   "metadata": {},
   "source": [
    "##### 1.1 Addressing negative prices & quantities\n",
    "\n",
    "0.6% of the data set has negative price points while 2% has negative recorded quantities.\n",
    "\n",
    "More precisely:\n",
    "- 99% of Invoices that are cancelled have negative `Quantity` rows. This perhaps represents returns, etc.\n",
    "- 85% of transactions with negative quantities are cancelled invoices. We'll need to do further digging on what these other transactions represent."
   ]
  },
  {
   "cell_type": "code",
   "execution_count": 72,
   "metadata": {},
   "outputs": [
    {
     "data": {
      "text/plain": [
       "0.5815222635803297"
      ]
     },
     "execution_count": 72,
     "metadata": {},
     "output_type": "execute_result"
    }
   ],
   "source": [
    "(df_transactions[\"Price\"] <= 0).mean() * 100"
   ]
  },
  {
   "cell_type": "code",
   "execution_count": 73,
   "metadata": {},
   "outputs": [
    {
     "data": {
      "text/plain": [
       "2.1501427338760375"
      ]
     },
     "execution_count": 73,
     "metadata": {},
     "output_type": "execute_result"
    }
   ],
   "source": [
    "(df_transactions[\"Quantity\"] <= 0).mean() * 100"
   ]
  },
  {
   "cell_type": "code",
   "execution_count": 76,
   "metadata": {},
   "outputs": [
    {
     "data": {
      "text/html": [
       "<div>\n",
       "<style scoped>\n",
       "    .dataframe tbody tr th:only-of-type {\n",
       "        vertical-align: middle;\n",
       "    }\n",
       "\n",
       "    .dataframe tbody tr th {\n",
       "        vertical-align: top;\n",
       "    }\n",
       "\n",
       "    .dataframe thead th {\n",
       "        text-align: right;\n",
       "    }\n",
       "</style>\n",
       "<table border=\"1\" class=\"dataframe\">\n",
       "  <thead>\n",
       "    <tr style=\"text-align: right;\">\n",
       "      <th></th>\n",
       "      <th>Invoice</th>\n",
       "      <th>StockCode</th>\n",
       "      <th>Description</th>\n",
       "      <th>Quantity</th>\n",
       "      <th>InvoiceDate</th>\n",
       "      <th>Price</th>\n",
       "      <th>Customer ID</th>\n",
       "      <th>Country</th>\n",
       "    </tr>\n",
       "  </thead>\n",
       "  <tbody>\n",
       "    <tr>\n",
       "      <th>540082</th>\n",
       "      <td>C581464</td>\n",
       "      <td>71477</td>\n",
       "      <td>COLOURED GLASS STAR T-LIGHT HOLDER</td>\n",
       "      <td>-6</td>\n",
       "      <td>2011-12-08 18:57:00</td>\n",
       "      <td>3.95</td>\n",
       "      <td>15951.00</td>\n",
       "      <td>United Kingdom</td>\n",
       "    </tr>\n",
       "    <tr>\n",
       "      <th>540083</th>\n",
       "      <td>C581465</td>\n",
       "      <td>23660</td>\n",
       "      <td>HENRIETTA HEN MUG</td>\n",
       "      <td>-2</td>\n",
       "      <td>2011-12-08 18:59:00</td>\n",
       "      <td>1.65</td>\n",
       "      <td>15755.00</td>\n",
       "      <td>United Kingdom</td>\n",
       "    </tr>\n",
       "    <tr>\n",
       "      <th>540084</th>\n",
       "      <td>C581465</td>\n",
       "      <td>22171</td>\n",
       "      <td>3 HOOK PHOTO SHELF ANTIQUE WHITE</td>\n",
       "      <td>-1</td>\n",
       "      <td>2011-12-08 18:59:00</td>\n",
       "      <td>8.50</td>\n",
       "      <td>15755.00</td>\n",
       "      <td>United Kingdom</td>\n",
       "    </tr>\n",
       "    <tr>\n",
       "      <th>540085</th>\n",
       "      <td>C581465</td>\n",
       "      <td>21876</td>\n",
       "      <td>POTTERING MUG</td>\n",
       "      <td>-4</td>\n",
       "      <td>2011-12-08 18:59:00</td>\n",
       "      <td>1.65</td>\n",
       "      <td>15755.00</td>\n",
       "      <td>United Kingdom</td>\n",
       "    </tr>\n",
       "    <tr>\n",
       "      <th>540086</th>\n",
       "      <td>C581465</td>\n",
       "      <td>20914</td>\n",
       "      <td>SET/5 RED RETROSPOT LID GLASS BOWLS</td>\n",
       "      <td>-3</td>\n",
       "      <td>2011-12-08 18:59:00</td>\n",
       "      <td>2.95</td>\n",
       "      <td>15755.00</td>\n",
       "      <td>United Kingdom</td>\n",
       "    </tr>\n",
       "    <tr>\n",
       "      <th>540087</th>\n",
       "      <td>C581466</td>\n",
       "      <td>22838</td>\n",
       "      <td>3 TIER CAKE TIN RED AND CREAM</td>\n",
       "      <td>-1</td>\n",
       "      <td>2011-12-08 19:20:00</td>\n",
       "      <td>14.95</td>\n",
       "      <td>13883.00</td>\n",
       "      <td>United Kingdom</td>\n",
       "    </tr>\n",
       "    <tr>\n",
       "      <th>540088</th>\n",
       "      <td>C581466</td>\n",
       "      <td>22720</td>\n",
       "      <td>SET OF 3 CAKE TINS PANTRY DESIGN</td>\n",
       "      <td>-2</td>\n",
       "      <td>2011-12-08 19:20:00</td>\n",
       "      <td>4.95</td>\n",
       "      <td>13883.00</td>\n",
       "      <td>United Kingdom</td>\n",
       "    </tr>\n",
       "    <tr>\n",
       "      <th>540089</th>\n",
       "      <td>C581466</td>\n",
       "      <td>21216</td>\n",
       "      <td>SET 3 RETROSPOT TEA,COFFEE,SUGAR</td>\n",
       "      <td>-1</td>\n",
       "      <td>2011-12-08 19:20:00</td>\n",
       "      <td>4.95</td>\n",
       "      <td>13883.00</td>\n",
       "      <td>United Kingdom</td>\n",
       "    </tr>\n",
       "    <tr>\n",
       "      <th>540090</th>\n",
       "      <td>C581466</td>\n",
       "      <td>21535</td>\n",
       "      <td>RED RETROSPOT SMALL MILK JUG</td>\n",
       "      <td>-2</td>\n",
       "      <td>2011-12-08 19:20:00</td>\n",
       "      <td>2.55</td>\n",
       "      <td>13883.00</td>\n",
       "      <td>United Kingdom</td>\n",
       "    </tr>\n",
       "    <tr>\n",
       "      <th>540091</th>\n",
       "      <td>C581466</td>\n",
       "      <td>21232</td>\n",
       "      <td>STRAWBERRY CERAMIC TRINKET POT</td>\n",
       "      <td>-1</td>\n",
       "      <td>2011-12-08 19:20:00</td>\n",
       "      <td>1.25</td>\n",
       "      <td>13883.00</td>\n",
       "      <td>United Kingdom</td>\n",
       "    </tr>\n",
       "    <tr>\n",
       "      <th>540141</th>\n",
       "      <td>C581468</td>\n",
       "      <td>21314</td>\n",
       "      <td>SMALL GLASS HEART TRINKET POT</td>\n",
       "      <td>-10</td>\n",
       "      <td>2011-12-08 19:26:00</td>\n",
       "      <td>2.10</td>\n",
       "      <td>13599.00</td>\n",
       "      <td>United Kingdom</td>\n",
       "    </tr>\n",
       "    <tr>\n",
       "      <th>540142</th>\n",
       "      <td>C581468</td>\n",
       "      <td>22098</td>\n",
       "      <td>BOUDOIR SQUARE TISSUE BOX</td>\n",
       "      <td>-12</td>\n",
       "      <td>2011-12-08 19:26:00</td>\n",
       "      <td>0.39</td>\n",
       "      <td>13599.00</td>\n",
       "      <td>United Kingdom</td>\n",
       "    </tr>\n",
       "    <tr>\n",
       "      <th>540143</th>\n",
       "      <td>C581470</td>\n",
       "      <td>23084</td>\n",
       "      <td>RABBIT NIGHT LIGHT</td>\n",
       "      <td>-4</td>\n",
       "      <td>2011-12-08 19:28:00</td>\n",
       "      <td>2.08</td>\n",
       "      <td>17924.00</td>\n",
       "      <td>United Kingdom</td>\n",
       "    </tr>\n",
       "    <tr>\n",
       "      <th>540422</th>\n",
       "      <td>C581484</td>\n",
       "      <td>23843</td>\n",
       "      <td>PAPER CRAFT , LITTLE BIRDIE</td>\n",
       "      <td>-80995</td>\n",
       "      <td>2011-12-09 09:27:00</td>\n",
       "      <td>2.08</td>\n",
       "      <td>16446.00</td>\n",
       "      <td>United Kingdom</td>\n",
       "    </tr>\n",
       "    <tr>\n",
       "      <th>540448</th>\n",
       "      <td>C581490</td>\n",
       "      <td>22178</td>\n",
       "      <td>VICTORIAN GLASS HANGING T-LIGHT</td>\n",
       "      <td>-12</td>\n",
       "      <td>2011-12-09 09:57:00</td>\n",
       "      <td>1.95</td>\n",
       "      <td>14397.00</td>\n",
       "      <td>United Kingdom</td>\n",
       "    </tr>\n",
       "    <tr>\n",
       "      <th>540449</th>\n",
       "      <td>C581490</td>\n",
       "      <td>23144</td>\n",
       "      <td>ZINC T-LIGHT HOLDER STARS SMALL</td>\n",
       "      <td>-11</td>\n",
       "      <td>2011-12-09 09:57:00</td>\n",
       "      <td>0.83</td>\n",
       "      <td>14397.00</td>\n",
       "      <td>United Kingdom</td>\n",
       "    </tr>\n",
       "    <tr>\n",
       "      <th>541541</th>\n",
       "      <td>C581499</td>\n",
       "      <td>M</td>\n",
       "      <td>Manual</td>\n",
       "      <td>-1</td>\n",
       "      <td>2011-12-09 10:28:00</td>\n",
       "      <td>224.69</td>\n",
       "      <td>15498.00</td>\n",
       "      <td>United Kingdom</td>\n",
       "    </tr>\n",
       "    <tr>\n",
       "      <th>541715</th>\n",
       "      <td>C581568</td>\n",
       "      <td>21258</td>\n",
       "      <td>VICTORIAN SEWING BOX LARGE</td>\n",
       "      <td>-5</td>\n",
       "      <td>2011-12-09 11:57:00</td>\n",
       "      <td>10.95</td>\n",
       "      <td>15311.00</td>\n",
       "      <td>United Kingdom</td>\n",
       "    </tr>\n",
       "    <tr>\n",
       "      <th>541716</th>\n",
       "      <td>C581569</td>\n",
       "      <td>84978</td>\n",
       "      <td>HANGING HEART JAR T-LIGHT HOLDER</td>\n",
       "      <td>-1</td>\n",
       "      <td>2011-12-09 11:58:00</td>\n",
       "      <td>1.25</td>\n",
       "      <td>17315.00</td>\n",
       "      <td>United Kingdom</td>\n",
       "    </tr>\n",
       "    <tr>\n",
       "      <th>541717</th>\n",
       "      <td>C581569</td>\n",
       "      <td>20979</td>\n",
       "      <td>36 PENCILS TUBE RED RETROSPOT</td>\n",
       "      <td>-5</td>\n",
       "      <td>2011-12-09 11:58:00</td>\n",
       "      <td>1.25</td>\n",
       "      <td>17315.00</td>\n",
       "      <td>United Kingdom</td>\n",
       "    </tr>\n",
       "  </tbody>\n",
       "</table>\n",
       "</div>"
      ],
      "text/plain": [
       "        Invoice StockCode                          Description  Quantity  \\\n",
       "540082  C581464     71477   COLOURED GLASS STAR T-LIGHT HOLDER        -6   \n",
       "540083  C581465     23660                   HENRIETTA HEN MUG         -2   \n",
       "540084  C581465     22171     3 HOOK PHOTO SHELF ANTIQUE WHITE        -1   \n",
       "540085  C581465     21876                        POTTERING MUG        -4   \n",
       "540086  C581465     20914  SET/5 RED RETROSPOT LID GLASS BOWLS        -3   \n",
       "540087  C581466     22838        3 TIER CAKE TIN RED AND CREAM        -1   \n",
       "540088  C581466     22720    SET OF 3 CAKE TINS PANTRY DESIGN         -2   \n",
       "540089  C581466     21216     SET 3 RETROSPOT TEA,COFFEE,SUGAR        -1   \n",
       "540090  C581466     21535         RED RETROSPOT SMALL MILK JUG        -2   \n",
       "540091  C581466     21232       STRAWBERRY CERAMIC TRINKET POT        -1   \n",
       "540141  C581468     21314        SMALL GLASS HEART TRINKET POT       -10   \n",
       "540142  C581468     22098            BOUDOIR SQUARE TISSUE BOX       -12   \n",
       "540143  C581470     23084                   RABBIT NIGHT LIGHT        -4   \n",
       "540422  C581484     23843          PAPER CRAFT , LITTLE BIRDIE    -80995   \n",
       "540448  C581490     22178      VICTORIAN GLASS HANGING T-LIGHT       -12   \n",
       "540449  C581490     23144      ZINC T-LIGHT HOLDER STARS SMALL       -11   \n",
       "541541  C581499         M                               Manual        -1   \n",
       "541715  C581568     21258           VICTORIAN SEWING BOX LARGE        -5   \n",
       "541716  C581569     84978     HANGING HEART JAR T-LIGHT HOLDER        -1   \n",
       "541717  C581569     20979        36 PENCILS TUBE RED RETROSPOT        -5   \n",
       "\n",
       "               InvoiceDate  Price  Customer ID         Country  \n",
       "540082 2011-12-08 18:57:00   3.95     15951.00  United Kingdom  \n",
       "540083 2011-12-08 18:59:00   1.65     15755.00  United Kingdom  \n",
       "540084 2011-12-08 18:59:00   8.50     15755.00  United Kingdom  \n",
       "540085 2011-12-08 18:59:00   1.65     15755.00  United Kingdom  \n",
       "540086 2011-12-08 18:59:00   2.95     15755.00  United Kingdom  \n",
       "540087 2011-12-08 19:20:00  14.95     13883.00  United Kingdom  \n",
       "540088 2011-12-08 19:20:00   4.95     13883.00  United Kingdom  \n",
       "540089 2011-12-08 19:20:00   4.95     13883.00  United Kingdom  \n",
       "540090 2011-12-08 19:20:00   2.55     13883.00  United Kingdom  \n",
       "540091 2011-12-08 19:20:00   1.25     13883.00  United Kingdom  \n",
       "540141 2011-12-08 19:26:00   2.10     13599.00  United Kingdom  \n",
       "540142 2011-12-08 19:26:00   0.39     13599.00  United Kingdom  \n",
       "540143 2011-12-08 19:28:00   2.08     17924.00  United Kingdom  \n",
       "540422 2011-12-09 09:27:00   2.08     16446.00  United Kingdom  \n",
       "540448 2011-12-09 09:57:00   1.95     14397.00  United Kingdom  \n",
       "540449 2011-12-09 09:57:00   0.83     14397.00  United Kingdom  \n",
       "541541 2011-12-09 10:28:00 224.69     15498.00  United Kingdom  \n",
       "541715 2011-12-09 11:57:00  10.95     15311.00  United Kingdom  \n",
       "541716 2011-12-09 11:58:00   1.25     17315.00  United Kingdom  \n",
       "541717 2011-12-09 11:58:00   1.25     17315.00  United Kingdom  "
      ]
     },
     "execution_count": 76,
     "metadata": {},
     "output_type": "execute_result"
    }
   ],
   "source": [
    "df_transactions.loc[df_transactions[\"Quantity\"] <= 0].tail(20)"
   ]
  },
  {
   "cell_type": "code",
   "execution_count": 83,
   "metadata": {},
   "outputs": [
    {
     "data": {
      "text/plain": [
       "84.93681917211329"
      ]
     },
     "execution_count": 83,
     "metadata": {},
     "output_type": "execute_result"
    }
   ],
   "source": [
    "(df_transactions.loc[df_transactions[\"Quantity\"] <= 0] \n",
    "                    [\"Invoice\"].str.startswith(\"C\")).mean() * 100"
   ]
  },
  {
   "cell_type": "code",
   "execution_count": 81,
   "metadata": {},
   "outputs": [
    {
     "data": {
      "text/plain": [
       "99.99487021647685"
      ]
     },
     "execution_count": 81,
     "metadata": {},
     "output_type": "execute_result"
    }
   ],
   "source": [
    "(df_transactions.loc[df_transactions[\"Invoice\"] \\\n",
    "                     .str.startswith(\"C\")][\"Quantity\"] <= 0).mean() * 100"
   ]
  },
  {
   "cell_type": "markdown",
   "metadata": {},
   "source": [
    "##### 1.2 Addressing the `Description` column null values\n",
    "\n",
    "0.41 % percent of the rows in the fisrt sheet have missing values in the `Description` column. We also notice irregularities in the first 20 rows. All values in the `Price` column are 0 and some of the order quantities (`Quantity`) are negative. All rows in the `Customer ID` are also null.\n",
    "\n",
    "We can also now confirm that all rows with their `Description` column empty have no `Customer ID`, are not cancellations. 61% of the rows also have negative quantities. Hence, they're potentially **return items** or **system logging errors**. This can explain why only some of their quantities are negative."
   ]
  },
  {
   "cell_type": "code",
   "execution_count": 47,
   "metadata": {},
   "outputs": [
    {
     "data": {
      "text/plain": [
       "0.4105414143723223"
      ]
     },
     "execution_count": 47,
     "metadata": {},
     "output_type": "execute_result"
    }
   ],
   "source": [
    "# calculate the percentage of missing values in the `Description` column\n",
    "df_transactions[\"Description\"].isnull().mean() * 100"
   ]
  },
  {
   "cell_type": "code",
   "execution_count": 59,
   "metadata": {},
   "outputs": [
    {
     "name": "stdout",
     "output_type": "stream",
     "text": [
      "No. of missing rows: (4382, 8)\n",
      "\n"
     ]
    },
    {
     "data": {
      "text/html": [
       "<div>\n",
       "<style scoped>\n",
       "    .dataframe tbody tr th:only-of-type {\n",
       "        vertical-align: middle;\n",
       "    }\n",
       "\n",
       "    .dataframe tbody tr th {\n",
       "        vertical-align: top;\n",
       "    }\n",
       "\n",
       "    .dataframe thead th {\n",
       "        text-align: right;\n",
       "    }\n",
       "</style>\n",
       "<table border=\"1\" class=\"dataframe\">\n",
       "  <thead>\n",
       "    <tr style=\"text-align: right;\">\n",
       "      <th></th>\n",
       "      <th>Invoice</th>\n",
       "      <th>StockCode</th>\n",
       "      <th>Description</th>\n",
       "      <th>Quantity</th>\n",
       "      <th>InvoiceDate</th>\n",
       "      <th>Price</th>\n",
       "      <th>Customer ID</th>\n",
       "      <th>Country</th>\n",
       "    </tr>\n",
       "  </thead>\n",
       "  <tbody>\n",
       "    <tr>\n",
       "      <th>470</th>\n",
       "      <td>489521</td>\n",
       "      <td>21646</td>\n",
       "      <td>NaN</td>\n",
       "      <td>-50</td>\n",
       "      <td>2009-12-01 11:44:00</td>\n",
       "      <td>0.00</td>\n",
       "      <td>NaN</td>\n",
       "      <td>United Kingdom</td>\n",
       "    </tr>\n",
       "    <tr>\n",
       "      <th>3114</th>\n",
       "      <td>489655</td>\n",
       "      <td>20683</td>\n",
       "      <td>NaN</td>\n",
       "      <td>-44</td>\n",
       "      <td>2009-12-01 17:26:00</td>\n",
       "      <td>0.00</td>\n",
       "      <td>NaN</td>\n",
       "      <td>United Kingdom</td>\n",
       "    </tr>\n",
       "    <tr>\n",
       "      <th>3161</th>\n",
       "      <td>489659</td>\n",
       "      <td>21350</td>\n",
       "      <td>NaN</td>\n",
       "      <td>230</td>\n",
       "      <td>2009-12-01 17:39:00</td>\n",
       "      <td>0.00</td>\n",
       "      <td>NaN</td>\n",
       "      <td>United Kingdom</td>\n",
       "    </tr>\n",
       "    <tr>\n",
       "      <th>3731</th>\n",
       "      <td>489781</td>\n",
       "      <td>84292</td>\n",
       "      <td>NaN</td>\n",
       "      <td>17</td>\n",
       "      <td>2009-12-02 11:45:00</td>\n",
       "      <td>0.00</td>\n",
       "      <td>NaN</td>\n",
       "      <td>United Kingdom</td>\n",
       "    </tr>\n",
       "    <tr>\n",
       "      <th>4296</th>\n",
       "      <td>489806</td>\n",
       "      <td>18010</td>\n",
       "      <td>NaN</td>\n",
       "      <td>-770</td>\n",
       "      <td>2009-12-02 12:42:00</td>\n",
       "      <td>0.00</td>\n",
       "      <td>NaN</td>\n",
       "      <td>United Kingdom</td>\n",
       "    </tr>\n",
       "    <tr>\n",
       "      <th>4566</th>\n",
       "      <td>489821</td>\n",
       "      <td>85049G</td>\n",
       "      <td>NaN</td>\n",
       "      <td>-240</td>\n",
       "      <td>2009-12-02 13:25:00</td>\n",
       "      <td>0.00</td>\n",
       "      <td>NaN</td>\n",
       "      <td>United Kingdom</td>\n",
       "    </tr>\n",
       "    <tr>\n",
       "      <th>6378</th>\n",
       "      <td>489882</td>\n",
       "      <td>35751C</td>\n",
       "      <td>NaN</td>\n",
       "      <td>12</td>\n",
       "      <td>2009-12-02 16:22:00</td>\n",
       "      <td>0.00</td>\n",
       "      <td>NaN</td>\n",
       "      <td>United Kingdom</td>\n",
       "    </tr>\n",
       "    <tr>\n",
       "      <th>6555</th>\n",
       "      <td>489898</td>\n",
       "      <td>79323G</td>\n",
       "      <td>NaN</td>\n",
       "      <td>954</td>\n",
       "      <td>2009-12-03 09:40:00</td>\n",
       "      <td>0.00</td>\n",
       "      <td>NaN</td>\n",
       "      <td>United Kingdom</td>\n",
       "    </tr>\n",
       "    <tr>\n",
       "      <th>6576</th>\n",
       "      <td>489901</td>\n",
       "      <td>21098</td>\n",
       "      <td>NaN</td>\n",
       "      <td>-200</td>\n",
       "      <td>2009-12-03 09:47:00</td>\n",
       "      <td>0.00</td>\n",
       "      <td>NaN</td>\n",
       "      <td>United Kingdom</td>\n",
       "    </tr>\n",
       "    <tr>\n",
       "      <th>6581</th>\n",
       "      <td>489903</td>\n",
       "      <td>21166</td>\n",
       "      <td>NaN</td>\n",
       "      <td>48</td>\n",
       "      <td>2009-12-03 09:57:00</td>\n",
       "      <td>0.00</td>\n",
       "      <td>NaN</td>\n",
       "      <td>United Kingdom</td>\n",
       "    </tr>\n",
       "    <tr>\n",
       "      <th>7204</th>\n",
       "      <td>490015</td>\n",
       "      <td>21982</td>\n",
       "      <td>NaN</td>\n",
       "      <td>467</td>\n",
       "      <td>2009-12-03 12:29:00</td>\n",
       "      <td>0.00</td>\n",
       "      <td>NaN</td>\n",
       "      <td>United Kingdom</td>\n",
       "    </tr>\n",
       "    <tr>\n",
       "      <th>7205</th>\n",
       "      <td>490016</td>\n",
       "      <td>21982</td>\n",
       "      <td>NaN</td>\n",
       "      <td>-1012</td>\n",
       "      <td>2009-12-03 12:30:00</td>\n",
       "      <td>0.00</td>\n",
       "      <td>NaN</td>\n",
       "      <td>United Kingdom</td>\n",
       "    </tr>\n",
       "    <tr>\n",
       "      <th>7559</th>\n",
       "      <td>490055</td>\n",
       "      <td>20620</td>\n",
       "      <td>NaN</td>\n",
       "      <td>-25</td>\n",
       "      <td>2009-12-03 13:22:00</td>\n",
       "      <td>0.00</td>\n",
       "      <td>NaN</td>\n",
       "      <td>United Kingdom</td>\n",
       "    </tr>\n",
       "    <tr>\n",
       "      <th>8553</th>\n",
       "      <td>490084</td>\n",
       "      <td>85064</td>\n",
       "      <td>NaN</td>\n",
       "      <td>-89</td>\n",
       "      <td>2009-12-03 15:37:00</td>\n",
       "      <td>0.00</td>\n",
       "      <td>NaN</td>\n",
       "      <td>United Kingdom</td>\n",
       "    </tr>\n",
       "    <tr>\n",
       "      <th>9249</th>\n",
       "      <td>490123</td>\n",
       "      <td>84508B</td>\n",
       "      <td>NaN</td>\n",
       "      <td>184</td>\n",
       "      <td>2009-12-03 18:08:00</td>\n",
       "      <td>0.00</td>\n",
       "      <td>NaN</td>\n",
       "      <td>United Kingdom</td>\n",
       "    </tr>\n",
       "    <tr>\n",
       "      <th>9667</th>\n",
       "      <td>490146</td>\n",
       "      <td>21558</td>\n",
       "      <td>NaN</td>\n",
       "      <td>-169</td>\n",
       "      <td>2009-12-04 09:29:00</td>\n",
       "      <td>0.00</td>\n",
       "      <td>NaN</td>\n",
       "      <td>United Kingdom</td>\n",
       "    </tr>\n",
       "    <tr>\n",
       "      <th>10236</th>\n",
       "      <td>490150</td>\n",
       "      <td>84347</td>\n",
       "      <td>NaN</td>\n",
       "      <td>80</td>\n",
       "      <td>2009-12-04 09:44:00</td>\n",
       "      <td>0.00</td>\n",
       "      <td>NaN</td>\n",
       "      <td>United Kingdom</td>\n",
       "    </tr>\n",
       "    <tr>\n",
       "      <th>10508</th>\n",
       "      <td>490165</td>\n",
       "      <td>21493</td>\n",
       "      <td>NaN</td>\n",
       "      <td>-106</td>\n",
       "      <td>2009-12-04 11:32:00</td>\n",
       "      <td>0.00</td>\n",
       "      <td>NaN</td>\n",
       "      <td>United Kingdom</td>\n",
       "    </tr>\n",
       "    <tr>\n",
       "      <th>11973</th>\n",
       "      <td>490354</td>\n",
       "      <td>21489</td>\n",
       "      <td>NaN</td>\n",
       "      <td>-23</td>\n",
       "      <td>2009-12-04 16:39:00</td>\n",
       "      <td>0.00</td>\n",
       "      <td>NaN</td>\n",
       "      <td>United Kingdom</td>\n",
       "    </tr>\n",
       "    <tr>\n",
       "      <th>12237</th>\n",
       "      <td>490379</td>\n",
       "      <td>21490</td>\n",
       "      <td>NaN</td>\n",
       "      <td>-44</td>\n",
       "      <td>2009-12-05 13:26:00</td>\n",
       "      <td>0.00</td>\n",
       "      <td>NaN</td>\n",
       "      <td>United Kingdom</td>\n",
       "    </tr>\n",
       "  </tbody>\n",
       "</table>\n",
       "</div>"
      ],
      "text/plain": [
       "      Invoice StockCode Description  Quantity         InvoiceDate  Price  \\\n",
       "470    489521     21646         NaN       -50 2009-12-01 11:44:00   0.00   \n",
       "3114   489655     20683         NaN       -44 2009-12-01 17:26:00   0.00   \n",
       "3161   489659     21350         NaN       230 2009-12-01 17:39:00   0.00   \n",
       "3731   489781     84292         NaN        17 2009-12-02 11:45:00   0.00   \n",
       "4296   489806     18010         NaN      -770 2009-12-02 12:42:00   0.00   \n",
       "4566   489821    85049G         NaN      -240 2009-12-02 13:25:00   0.00   \n",
       "6378   489882    35751C         NaN        12 2009-12-02 16:22:00   0.00   \n",
       "6555   489898    79323G         NaN       954 2009-12-03 09:40:00   0.00   \n",
       "6576   489901     21098         NaN      -200 2009-12-03 09:47:00   0.00   \n",
       "6581   489903     21166         NaN        48 2009-12-03 09:57:00   0.00   \n",
       "7204   490015     21982         NaN       467 2009-12-03 12:29:00   0.00   \n",
       "7205   490016     21982         NaN     -1012 2009-12-03 12:30:00   0.00   \n",
       "7559   490055     20620         NaN       -25 2009-12-03 13:22:00   0.00   \n",
       "8553   490084     85064         NaN       -89 2009-12-03 15:37:00   0.00   \n",
       "9249   490123    84508B         NaN       184 2009-12-03 18:08:00   0.00   \n",
       "9667   490146     21558         NaN      -169 2009-12-04 09:29:00   0.00   \n",
       "10236  490150     84347         NaN        80 2009-12-04 09:44:00   0.00   \n",
       "10508  490165     21493         NaN      -106 2009-12-04 11:32:00   0.00   \n",
       "11973  490354     21489         NaN       -23 2009-12-04 16:39:00   0.00   \n",
       "12237  490379     21490         NaN       -44 2009-12-05 13:26:00   0.00   \n",
       "\n",
       "       Customer ID         Country  \n",
       "470            NaN  United Kingdom  \n",
       "3114           NaN  United Kingdom  \n",
       "3161           NaN  United Kingdom  \n",
       "3731           NaN  United Kingdom  \n",
       "4296           NaN  United Kingdom  \n",
       "4566           NaN  United Kingdom  \n",
       "6378           NaN  United Kingdom  \n",
       "6555           NaN  United Kingdom  \n",
       "6576           NaN  United Kingdom  \n",
       "6581           NaN  United Kingdom  \n",
       "7204           NaN  United Kingdom  \n",
       "7205           NaN  United Kingdom  \n",
       "7559           NaN  United Kingdom  \n",
       "8553           NaN  United Kingdom  \n",
       "9249           NaN  United Kingdom  \n",
       "9667           NaN  United Kingdom  \n",
       "10236          NaN  United Kingdom  \n",
       "10508          NaN  United Kingdom  \n",
       "11973          NaN  United Kingdom  \n",
       "12237          NaN  United Kingdom  "
      ]
     },
     "execution_count": 59,
     "metadata": {},
     "output_type": "execute_result"
    }
   ],
   "source": [
    "df_description_missing = df_transactions.loc[df_transactions[\"Description\"].isnull()]\n",
    "print(f\"No. of missing rows: {df_description_missing.shape}\")\n",
    "print(\"\")\n",
    "df_description_missing.head(20)"
   ]
  },
  {
   "cell_type": "code",
   "execution_count": 64,
   "metadata": {},
   "outputs": [
    {
     "data": {
      "text/plain": [
       "61.364673664993155"
      ]
     },
     "execution_count": 64,
     "metadata": {},
     "output_type": "execute_result"
    }
   ],
   "source": [
    "# 61% of the rows have negative quantities.\n",
    "(df_description_missing[\"Quantity\"] <= 0).mean() * 100"
   ]
  },
  {
   "cell_type": "code",
   "execution_count": 57,
   "metadata": {},
   "outputs": [
    {
     "data": {
      "text/plain": [
       "0"
      ]
     },
     "execution_count": 57,
     "metadata": {},
     "output_type": "execute_result"
    }
   ],
   "source": [
    "# check if any of the rows are cancelled invoices\n",
    "df_description_missing[\"Invoice\"].str.startswith(\"c\").sum()"
   ]
  },
  {
   "cell_type": "code",
   "execution_count": 53,
   "metadata": {},
   "outputs": [
    {
     "data": {
      "text/plain": [
       "Series([], Name: proportion, dtype: float64)"
      ]
     },
     "execution_count": 53,
     "metadata": {},
     "output_type": "execute_result"
    }
   ],
   "source": [
    "# all the Customer IDs are missing\n",
    "df_description_missing[\"Customer ID\"].value_counts(normalize=True)"
   ]
  },
  {
   "cell_type": "code",
   "execution_count": 52,
   "metadata": {},
   "outputs": [
    {
     "data": {
      "text/plain": [
       "Price\n",
       "0.00   1.00\n",
       "Name: proportion, dtype: float64"
      ]
     },
     "execution_count": 52,
     "metadata": {},
     "output_type": "execute_result"
    }
   ],
   "source": [
    "# All price values are 0\n",
    "df_description_missing[\"Price\"].value_counts(normalize=True)"
   ]
  },
  {
   "cell_type": "code",
   "execution_count": 60,
   "metadata": {},
   "outputs": [
    {
     "data": {
      "text/plain": [
       "Country\n",
       "United Kingdom   1.00\n",
       "Name: proportion, dtype: Float64"
      ]
     },
     "execution_count": 60,
     "metadata": {},
     "output_type": "execute_result"
    }
   ],
   "source": [
    "df_description_missing[\"Country\"].value_counts(normalize=True)"
   ]
  },
  {
   "cell_type": "markdown",
   "metadata": {},
   "source": [
    "##### 1.3 Addressing the `Customer ID` column null values"
   ]
  },
  {
   "cell_type": "markdown",
   "metadata": {},
   "source": [
    "Overall, there is not a pattern or a clear reason fo why these rows don't have a `Customer ID` from the data. 1.7% of rows in the `Quantity` column are negative while this is 2.5% of rows in the `Price` column. Finally, none of these rows are cancelled transactions."
   ]
  },
  {
   "cell_type": "code",
   "execution_count": 65,
   "metadata": {},
   "outputs": [
    {
     "data": {
      "text/plain": [
       "22.766872999172733"
      ]
     },
     "execution_count": 65,
     "metadata": {},
     "output_type": "execute_result"
    }
   ],
   "source": [
    "# calculate the percentage of missing values in the `Customer ID` column\n",
    "df_transactions[\"Customer ID\"].isnull().mean() * 100"
   ]
  },
  {
   "cell_type": "code",
   "execution_count": 66,
   "metadata": {},
   "outputs": [
    {
     "name": "stdout",
     "output_type": "stream",
     "text": [
      "No. of missing rows: (243007, 8)\n",
      "\n"
     ]
    },
    {
     "data": {
      "text/html": [
       "<div>\n",
       "<style scoped>\n",
       "    .dataframe tbody tr th:only-of-type {\n",
       "        vertical-align: middle;\n",
       "    }\n",
       "\n",
       "    .dataframe tbody tr th {\n",
       "        vertical-align: top;\n",
       "    }\n",
       "\n",
       "    .dataframe thead th {\n",
       "        text-align: right;\n",
       "    }\n",
       "</style>\n",
       "<table border=\"1\" class=\"dataframe\">\n",
       "  <thead>\n",
       "    <tr style=\"text-align: right;\">\n",
       "      <th></th>\n",
       "      <th>Invoice</th>\n",
       "      <th>StockCode</th>\n",
       "      <th>Description</th>\n",
       "      <th>Quantity</th>\n",
       "      <th>InvoiceDate</th>\n",
       "      <th>Price</th>\n",
       "      <th>Customer ID</th>\n",
       "      <th>Country</th>\n",
       "    </tr>\n",
       "  </thead>\n",
       "  <tbody>\n",
       "    <tr>\n",
       "      <th>263</th>\n",
       "      <td>489464</td>\n",
       "      <td>21733</td>\n",
       "      <td>85123a mixed</td>\n",
       "      <td>-96</td>\n",
       "      <td>2009-12-01 10:52:00</td>\n",
       "      <td>0.00</td>\n",
       "      <td>NaN</td>\n",
       "      <td>United Kingdom</td>\n",
       "    </tr>\n",
       "    <tr>\n",
       "      <th>283</th>\n",
       "      <td>489463</td>\n",
       "      <td>71477</td>\n",
       "      <td>short</td>\n",
       "      <td>-240</td>\n",
       "      <td>2009-12-01 10:52:00</td>\n",
       "      <td>0.00</td>\n",
       "      <td>NaN</td>\n",
       "      <td>United Kingdom</td>\n",
       "    </tr>\n",
       "    <tr>\n",
       "      <th>284</th>\n",
       "      <td>489467</td>\n",
       "      <td>85123A</td>\n",
       "      <td>21733 mixed</td>\n",
       "      <td>-192</td>\n",
       "      <td>2009-12-01 10:53:00</td>\n",
       "      <td>0.00</td>\n",
       "      <td>NaN</td>\n",
       "      <td>United Kingdom</td>\n",
       "    </tr>\n",
       "    <tr>\n",
       "      <th>470</th>\n",
       "      <td>489521</td>\n",
       "      <td>21646</td>\n",
       "      <td>NaN</td>\n",
       "      <td>-50</td>\n",
       "      <td>2009-12-01 11:44:00</td>\n",
       "      <td>0.00</td>\n",
       "      <td>NaN</td>\n",
       "      <td>United Kingdom</td>\n",
       "    </tr>\n",
       "    <tr>\n",
       "      <th>577</th>\n",
       "      <td>489525</td>\n",
       "      <td>85226C</td>\n",
       "      <td>BLUE PULL BACK RACING CAR</td>\n",
       "      <td>1</td>\n",
       "      <td>2009-12-01 11:49:00</td>\n",
       "      <td>0.55</td>\n",
       "      <td>NaN</td>\n",
       "      <td>United Kingdom</td>\n",
       "    </tr>\n",
       "    <tr>\n",
       "      <th>578</th>\n",
       "      <td>489525</td>\n",
       "      <td>85227</td>\n",
       "      <td>SET/6 3D KIT CARDS FOR KIDS</td>\n",
       "      <td>1</td>\n",
       "      <td>2009-12-01 11:49:00</td>\n",
       "      <td>0.85</td>\n",
       "      <td>NaN</td>\n",
       "      <td>United Kingdom</td>\n",
       "    </tr>\n",
       "    <tr>\n",
       "      <th>1055</th>\n",
       "      <td>489548</td>\n",
       "      <td>22271</td>\n",
       "      <td>FELTCRAFT DOLL ROSIE</td>\n",
       "      <td>1</td>\n",
       "      <td>2009-12-01 12:32:00</td>\n",
       "      <td>2.95</td>\n",
       "      <td>NaN</td>\n",
       "      <td>United Kingdom</td>\n",
       "    </tr>\n",
       "    <tr>\n",
       "      <th>1056</th>\n",
       "      <td>489548</td>\n",
       "      <td>22254</td>\n",
       "      <td>FELT TOADSTOOL LARGE</td>\n",
       "      <td>12</td>\n",
       "      <td>2009-12-01 12:32:00</td>\n",
       "      <td>1.25</td>\n",
       "      <td>NaN</td>\n",
       "      <td>United Kingdom</td>\n",
       "    </tr>\n",
       "    <tr>\n",
       "      <th>1057</th>\n",
       "      <td>489548</td>\n",
       "      <td>22273</td>\n",
       "      <td>FELTCRAFT DOLL MOLLY</td>\n",
       "      <td>3</td>\n",
       "      <td>2009-12-01 12:32:00</td>\n",
       "      <td>2.95</td>\n",
       "      <td>NaN</td>\n",
       "      <td>United Kingdom</td>\n",
       "    </tr>\n",
       "    <tr>\n",
       "      <th>1058</th>\n",
       "      <td>489548</td>\n",
       "      <td>22195</td>\n",
       "      <td>LARGE HEART MEASURING SPOONS</td>\n",
       "      <td>1</td>\n",
       "      <td>2009-12-01 12:32:00</td>\n",
       "      <td>1.65</td>\n",
       "      <td>NaN</td>\n",
       "      <td>United Kingdom</td>\n",
       "    </tr>\n",
       "    <tr>\n",
       "      <th>1059</th>\n",
       "      <td>489548</td>\n",
       "      <td>22131</td>\n",
       "      <td>FOOD CONTAINER SET 3 LOVE HEART</td>\n",
       "      <td>2</td>\n",
       "      <td>2009-12-01 12:32:00</td>\n",
       "      <td>1.95</td>\n",
       "      <td>NaN</td>\n",
       "      <td>United Kingdom</td>\n",
       "    </tr>\n",
       "    <tr>\n",
       "      <th>1060</th>\n",
       "      <td>489548</td>\n",
       "      <td>22079</td>\n",
       "      <td>RIBBON REEL HEARTS DESIGN</td>\n",
       "      <td>10</td>\n",
       "      <td>2009-12-01 12:32:00</td>\n",
       "      <td>1.65</td>\n",
       "      <td>NaN</td>\n",
       "      <td>United Kingdom</td>\n",
       "    </tr>\n",
       "    <tr>\n",
       "      <th>1061</th>\n",
       "      <td>489548</td>\n",
       "      <td>22138</td>\n",
       "      <td>BAKING SET 9 PIECE RETROSPOT</td>\n",
       "      <td>3</td>\n",
       "      <td>2009-12-01 12:32:00</td>\n",
       "      <td>4.95</td>\n",
       "      <td>NaN</td>\n",
       "      <td>United Kingdom</td>\n",
       "    </tr>\n",
       "    <tr>\n",
       "      <th>1062</th>\n",
       "      <td>489548</td>\n",
       "      <td>22147</td>\n",
       "      <td>FELTCRAFT BUTTERFLY HEARTS</td>\n",
       "      <td>2</td>\n",
       "      <td>2009-12-01 12:32:00</td>\n",
       "      <td>1.45</td>\n",
       "      <td>NaN</td>\n",
       "      <td>United Kingdom</td>\n",
       "    </tr>\n",
       "    <tr>\n",
       "      <th>1063</th>\n",
       "      <td>489548</td>\n",
       "      <td>22142</td>\n",
       "      <td>CHRISTMAS CRAFT WHITE FAIRY</td>\n",
       "      <td>2</td>\n",
       "      <td>2009-12-01 12:32:00</td>\n",
       "      <td>1.45</td>\n",
       "      <td>NaN</td>\n",
       "      <td>United Kingdom</td>\n",
       "    </tr>\n",
       "    <tr>\n",
       "      <th>1064</th>\n",
       "      <td>489548</td>\n",
       "      <td>22150</td>\n",
       "      <td>3 STRIPEY MICE FELTCRAFT</td>\n",
       "      <td>2</td>\n",
       "      <td>2009-12-01 12:32:00</td>\n",
       "      <td>1.95</td>\n",
       "      <td>NaN</td>\n",
       "      <td>United Kingdom</td>\n",
       "    </tr>\n",
       "    <tr>\n",
       "      <th>1065</th>\n",
       "      <td>489548</td>\n",
       "      <td>20804</td>\n",
       "      <td>GLASS CHICKEN BUTTER DISH</td>\n",
       "      <td>1</td>\n",
       "      <td>2009-12-01 12:32:00</td>\n",
       "      <td>1.65</td>\n",
       "      <td>NaN</td>\n",
       "      <td>United Kingdom</td>\n",
       "    </tr>\n",
       "    <tr>\n",
       "      <th>1066</th>\n",
       "      <td>489548</td>\n",
       "      <td>22196</td>\n",
       "      <td>SMALL HEART MEASURING SPOONS</td>\n",
       "      <td>8</td>\n",
       "      <td>2009-12-01 12:32:00</td>\n",
       "      <td>0.85</td>\n",
       "      <td>NaN</td>\n",
       "      <td>United Kingdom</td>\n",
       "    </tr>\n",
       "    <tr>\n",
       "      <th>1067</th>\n",
       "      <td>489548</td>\n",
       "      <td>22086</td>\n",
       "      <td>PAPER CHAIN KIT 50'S CHRISTMAS</td>\n",
       "      <td>3</td>\n",
       "      <td>2009-12-01 12:32:00</td>\n",
       "      <td>2.95</td>\n",
       "      <td>NaN</td>\n",
       "      <td>United Kingdom</td>\n",
       "    </tr>\n",
       "    <tr>\n",
       "      <th>1068</th>\n",
       "      <td>489548</td>\n",
       "      <td>21115</td>\n",
       "      <td>ROSE CARAVAN DOORSTOP</td>\n",
       "      <td>1</td>\n",
       "      <td>2009-12-01 12:32:00</td>\n",
       "      <td>6.75</td>\n",
       "      <td>NaN</td>\n",
       "      <td>United Kingdom</td>\n",
       "    </tr>\n",
       "  </tbody>\n",
       "</table>\n",
       "</div>"
      ],
      "text/plain": [
       "     Invoice StockCode                       Description  Quantity  \\\n",
       "263   489464     21733                      85123a mixed       -96   \n",
       "283   489463     71477                             short      -240   \n",
       "284   489467    85123A                       21733 mixed      -192   \n",
       "470   489521     21646                               NaN       -50   \n",
       "577   489525    85226C         BLUE PULL BACK RACING CAR         1   \n",
       "578   489525     85227       SET/6 3D KIT CARDS FOR KIDS         1   \n",
       "1055  489548     22271              FELTCRAFT DOLL ROSIE         1   \n",
       "1056  489548     22254              FELT TOADSTOOL LARGE        12   \n",
       "1057  489548     22273              FELTCRAFT DOLL MOLLY         3   \n",
       "1058  489548     22195      LARGE HEART MEASURING SPOONS         1   \n",
       "1059  489548     22131  FOOD CONTAINER SET 3 LOVE HEART          2   \n",
       "1060  489548     22079        RIBBON REEL HEARTS DESIGN         10   \n",
       "1061  489548     22138     BAKING SET 9 PIECE RETROSPOT          3   \n",
       "1062  489548     22147        FELTCRAFT BUTTERFLY HEARTS         2   \n",
       "1063  489548     22142      CHRISTMAS CRAFT WHITE FAIRY          2   \n",
       "1064  489548     22150          3 STRIPEY MICE FELTCRAFT         2   \n",
       "1065  489548     20804         GLASS CHICKEN BUTTER DISH         1   \n",
       "1066  489548     22196      SMALL HEART MEASURING SPOONS         8   \n",
       "1067  489548     22086   PAPER CHAIN KIT 50'S CHRISTMAS          3   \n",
       "1068  489548     21115             ROSE CARAVAN DOORSTOP         1   \n",
       "\n",
       "             InvoiceDate  Price  Customer ID         Country  \n",
       "263  2009-12-01 10:52:00   0.00          NaN  United Kingdom  \n",
       "283  2009-12-01 10:52:00   0.00          NaN  United Kingdom  \n",
       "284  2009-12-01 10:53:00   0.00          NaN  United Kingdom  \n",
       "470  2009-12-01 11:44:00   0.00          NaN  United Kingdom  \n",
       "577  2009-12-01 11:49:00   0.55          NaN  United Kingdom  \n",
       "578  2009-12-01 11:49:00   0.85          NaN  United Kingdom  \n",
       "1055 2009-12-01 12:32:00   2.95          NaN  United Kingdom  \n",
       "1056 2009-12-01 12:32:00   1.25          NaN  United Kingdom  \n",
       "1057 2009-12-01 12:32:00   2.95          NaN  United Kingdom  \n",
       "1058 2009-12-01 12:32:00   1.65          NaN  United Kingdom  \n",
       "1059 2009-12-01 12:32:00   1.95          NaN  United Kingdom  \n",
       "1060 2009-12-01 12:32:00   1.65          NaN  United Kingdom  \n",
       "1061 2009-12-01 12:32:00   4.95          NaN  United Kingdom  \n",
       "1062 2009-12-01 12:32:00   1.45          NaN  United Kingdom  \n",
       "1063 2009-12-01 12:32:00   1.45          NaN  United Kingdom  \n",
       "1064 2009-12-01 12:32:00   1.95          NaN  United Kingdom  \n",
       "1065 2009-12-01 12:32:00   1.65          NaN  United Kingdom  \n",
       "1066 2009-12-01 12:32:00   0.85          NaN  United Kingdom  \n",
       "1067 2009-12-01 12:32:00   2.95          NaN  United Kingdom  \n",
       "1068 2009-12-01 12:32:00   6.75          NaN  United Kingdom  "
      ]
     },
     "execution_count": 66,
     "metadata": {},
     "output_type": "execute_result"
    }
   ],
   "source": [
    "df_customerid_missing = df_transactions.loc[df_transactions[\"Customer ID\"].isnull()]\n",
    "print(f\"No. of missing rows: {df_customerid_missing.shape}\")\n",
    "print(\"\")\n",
    "df_customerid_missing.head(20)"
   ]
  },
  {
   "cell_type": "code",
   "execution_count": 71,
   "metadata": {},
   "outputs": [
    {
     "data": {
      "text/plain": [
       "0"
      ]
     },
     "execution_count": 71,
     "metadata": {},
     "output_type": "execute_result"
    }
   ],
   "source": [
    "# None of the rows are cancelled invoices\n",
    "df_customerid_missing[\"Invoice\"].str.startswith(\"c\").sum()"
   ]
  },
  {
   "cell_type": "code",
   "execution_count": 68,
   "metadata": {},
   "outputs": [
    {
     "data": {
      "text/plain": [
       "4872"
      ]
     },
     "execution_count": 68,
     "metadata": {},
     "output_type": "execute_result"
    }
   ],
   "source": [
    "df_customerid_missing[\"Description\"].nunique()"
   ]
  },
  {
   "cell_type": "code",
   "execution_count": 69,
   "metadata": {},
   "outputs": [
    {
     "data": {
      "text/plain": [
       "1.7308143386816017"
      ]
     },
     "execution_count": 69,
     "metadata": {},
     "output_type": "execute_result"
    }
   ],
   "source": [
    "(df_customerid_missing[\"Quantity\"] <= 0).mean() * 100"
   ]
  },
  {
   "cell_type": "code",
   "execution_count": 70,
   "metadata": {},
   "outputs": [
    {
     "data": {
      "text/plain": [
       "2.5250301431646003"
      ]
     },
     "execution_count": 70,
     "metadata": {},
     "output_type": "execute_result"
    }
   ],
   "source": [
    "(df_customerid_missing[\"Price\"] <= 0).mean() * 100"
   ]
  },
  {
   "cell_type": "markdown",
   "metadata": {},
   "source": [
    "#### 2.0 **Conclusion**"
   ]
  },
  {
   "cell_type": "markdown",
   "metadata": {},
   "source": [
    "Hence, we'll proceed with the following data treatments: \n",
    "- Remove rows where either `Quantity` or `Price` is null.\n",
    "- Drop rows where the `Description` & `Customer ID` is missing.\n",
    "- Remove `StockCode`s with `TEST` in their text as a cautionary step.\n",
    "- Ensure data is between 01/12/2009 and 09/12/2011.\n",
    "\n",
    "Future explorations can perhaps benefit to inspect if there's any meaningful differences between customers with an ID and those that don't."
   ]
  }
 ],
 "metadata": {
  "kernelspec": {
   "display_name": "publicis_assessment_ds",
   "language": "python",
   "name": "python3"
  },
  "language_info": {
   "codemirror_mode": {
    "name": "ipython",
    "version": 3
   },
   "file_extension": ".py",
   "mimetype": "text/x-python",
   "name": "python",
   "nbconvert_exporter": "python",
   "pygments_lexer": "ipython3",
   "version": "3.11.5"
  }
 },
 "nbformat": 4,
 "nbformat_minor": 2
}
